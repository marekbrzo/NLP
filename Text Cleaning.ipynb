{
 "cells": [
  {
   "cell_type": "markdown",
   "metadata": {},
   "source": [
    "# Text Cleaning \n",
    "\n",
    "## BRZOZOWSKI MAREK\n",
    "\n",
    "## FIND THE PHRASES AT YOUR CHOICE USING REGULAR EXPRESSION\n",
    "\n",
    "For this I will be looking for Noun Phrases and single Verbs for the wikipedia data."
   ]
  },
  {
   "source": [
    "First we need to set up our environment and load in our data. "
   ],
   "cell_type": "markdown",
   "metadata": {}
  },
  {
   "cell_type": "code",
   "execution_count": 3,
   "metadata": {},
   "outputs": [],
   "source": [
    "# Setting up environmental packages to complete the task presented above.\n",
    "import wikipediaapi\n",
    "import nltk\n",
    "\n",
    "from nltk import pos_tag\n",
    "from nltk.tokenize import word_tokenize\n",
    "from nltk.corpus import stopwords\n",
    "from nltk.chunk import RegexpParser\n"
   ]
  },
  {
   "source": [
    "Second a quick preview will show the type of data we are working with."
   ],
   "cell_type": "markdown",
   "metadata": {}
  },
  {
   "cell_type": "code",
   "execution_count": 4,
   "metadata": {},
   "outputs": [
    {
     "output_type": "stream",
     "name": "stdout",
     "text": [
      "Page - Exists: True\nPage - Title: George W. Bush\nhttps://en.wikipedia.org/wiki/George_W._Bush \n\nPage - Summary: \nGeorge Walker Bush (born July 6, 1946) is an American politician and businessman who served as the 43rd president of the United States from 2001 to 2009. A member of the Republican Party, he had previously served as the 46th governor of Texas from 1995 to 2000. Born into the Bush family, his father, George H. W. Bush, served as the 41st president of the United States from 1989 to 1993.\nBush is the eldest son of Barbara and George H. W. Bush. As such he is the second son of a former United States president to himself become the American president, with the first being John Quincy Adams, the son of John Adams. He flew warplanes in the Texas and Alabama Air National Guard. After graduating from Yale College in 1968 and Harvard Business School in 1975, he worked in the oil industry. Bush married Laura Welch in 1977 and unsuccessfully ran for the U.S. House of Representatives shortly thereafter. He later co-owned the Texas Rangers baseball team before defeating incumbent Ann Richards in the 1994 Texas gubernatorial election. As governor, Bush successfully sponsored legislation for tort reform, increased education funding, set higher standards for schools, and reformed the criminal justice system. Bush also helped make Texas the leading producer of wind powered electricity in the U.S. Bush was elected president in 2000 when he defeated Democratic incumbent Vice President Al Gore after a narrow and contested win that involved a Supreme Court decision to stop a recount in Florida. He became the fourth person to be elected president without a popular vote victory.\nUpon taking office, Bush pushed through a $1.3 trillion tax cut program and the No Child Left Behind Act, a major education reform bill. He also pushed for socially conservative efforts, such as the Partial-Birth Abortion Ban Act and faith-based welfare initiatives. In response to the September 11 terrorist attacks, Bush created the Department of Homeland Security and launched a \"War on Terror\" that began with the war in Afghanistan in 2001. He also signed into law the controversial Patriot Act in order to authorize surveillance of suspected terrorists. In 2003, Bush ordered an invasion of Iraq, beginning the Iraq War, with the administration arguing that the Saddam Hussein regime possessed an active weapons of mass destruction (WMD) program, and that the Iraqi government posed a threat to the U.S. Some administration officials falsely claimed that Hussein had an operational relationship with Al-Qaeda, the perpetrators of the 9/11 attack. No stockpiles of WMDs or an active WMD program were ever found in Iraq. Bush also signed into law the Medicare Modernization Act, which created Medicare Part D, and funding for the AIDS relief program known as PEPFAR.\nBush was re-elected to a second term in the 2004 presidential election, defeating Democratic Senator John Kerry in a close race. During his second term, Bush reached multiple free trade agreements and successfully nominated John Roberts and Samuel Alito to the Supreme Court. He sought major changes to Social Security and immigration laws, but both efforts failed. The wars in Afghanistan and Iraq continued, and in 2007 he launched a surge of troops in Iraq. Bush received criticism from across the political spectrum for his handling of Hurricane Katrina, and the midterm dismissal of U.S. attorneys. Amid this criticism, the Democratic Party regained control of Congress in the 2006 elections. In December 2007, the U.S. entered the Great Recession, prompting the Bush administration to obtain congressional approval for multiple economic programs intended to preserve the country's financial system, including the Troubled Asset Relief Program (TARP) to buy toxic assets from financial institutions. Bush was among the most popular, as well as unpopular, U.S. presidents in history; he received the highest recorded approval ratings in the wake of the 9/11 attacks, but one of the lowest such ratings during the 2008 financial crisis. Bush finished his second term in office in 2009 and returned to Texas. In 2010, he published his memoir, Decision Points. His presidential library opened in 2013. His presidency has been rated as below-average in historical rankings of U.S. presidents, although his public favorability ratings have improved since leaving office.\n"
     ]
    }
   ],
   "source": [
    "# Loading Data and Quick Previews. Checking for existence, title, URL, and quick page summary.\n",
    "wiki_wiki = wikipediaapi.Wikipedia('en')\n",
    "page_py = wiki_wiki.page('George W. Bush')\n",
    "print(\"Page - Exists: %s\" % page_py.exists())\n",
    "print(\"Page - Title: %s\" % page_py.title)\n",
    "print(page_py.fullurl,'\\n')\n",
    "print(\"Page - Summary: \\n%s\" % page_py.summary)"
   ]
  },
  {
   "cell_type": "code",
   "execution_count": 5,
   "metadata": {},
   "outputs": [
    {
     "output_type": "execute_result",
     "data": {
      "text/plain": [
       "'George Walker Bush (born July 6, 1946) is an American politician and businessman who served as the 43rd president of the United States from 2001 to 2009. A member of the Republican Party, he had previously served as the 46th governor of Texas from 1995 to 2000. Born into the Bush family, his father,'"
      ]
     },
     "metadata": {},
     "execution_count": 5
    }
   ],
   "source": [
    "# Converting Wikipedia's data into usuable information\n",
    "raw_text = page_py.text\n",
    "raw_text[:300]"
   ]
  },
  {
   "cell_type": "code",
   "execution_count": 6,
   "metadata": {},
   "outputs": [
    {
     "output_type": "stream",
     "name": "stdout",
     "text": [
      "Word Lenght 17125 \n\n['George', 'Walker', 'Bush', '(', 'born', 'July', '6', ',', '1946', ')', 'is', 'an', 'American', 'politician', 'and', 'businessman', 'who', 'served', 'as', 'the', '43rd', 'president', 'of', 'the', 'United', 'States', 'from', '2001', 'to', '2009', '.', 'A', 'member', 'of', 'the', 'Republican', 'Party', ',', 'he', 'had', 'previously', 'served', 'as', 'the', '46th', 'governor', 'of', 'Texas', 'from', '1995', 'to', '2000', '.', 'Born', 'into', 'the', 'Bush', 'family', ',', 'his', 'father', ',', 'George', 'H.', 'W.', 'Bush', ',', 'served', 'as', 'the', '41st', 'president', 'of', 'the', 'United', 'States', 'from', '1989', 'to', '1993', '.', 'Bush', 'is', 'the', 'eldest', 'son', 'of', 'Barbara', 'and', 'George', 'H.', 'W.', 'Bush', '.', 'As', 'such', 'he', 'is', 'the', 'second']\n"
     ]
    }
   ],
   "source": [
    "# Word Tokenizer: Dividing text/documents into word units called tokens. Tokens originate from words or sentences where spaces or punctuation define tokens.\n",
    "word_list = word_tokenize(raw_text)\n",
    "\n",
    "# Preview and quick examinations\n",
    "print('Word Lenght', len(word_list),'\\n')\n",
    "print(word_list[0:100])"
   ]
  },
  {
   "source": [
    "Thrid we will filter out our data to remove unnecessary stopwords."
   ],
   "cell_type": "markdown",
   "metadata": {}
  },
  {
   "cell_type": "code",
   "execution_count": 7,
   "metadata": {},
   "outputs": [],
   "source": [
    "# Removal of Stop Words. Stop words are words that we do no to process. They are usually part of the language strucutre such as: the, is are, etc.,.\n",
    "stop_words = set(stopwords.words('english'))\n",
    "\n",
    "# Filtering out stopwords\n",
    "filtered_word = [w for w in word_list if not w in stop_words]"
   ]
  },
  {
   "source": [
    "Fourth we will have seperate our data into seperate listings, USE tokenizing"
   ],
   "cell_type": "markdown",
   "metadata": {}
  },
  {
   "cell_type": "code",
   "execution_count": 8,
   "metadata": {},
   "outputs": [],
   "source": [
    "# Part of Speech: Tagging words with a part of speech.\n",
    "tagged = nltk.pos_tag(filtered_word)"
   ]
  },
  {
   "source": [
    "Fifth adding part of speech will define our data as a member of a closs of words."
   ],
   "cell_type": "markdown",
   "metadata": {}
  },
  {
   "cell_type": "code",
   "execution_count": 9,
   "metadata": {},
   "outputs": [],
   "source": [
    "# Chunking: Grouping words in meaniful chunks. \n",
    "chunker = RegexpParser(\"\"\"\n",
    "                       NOUN PHRASES: {(<J\\w+>|<V\\w+>|<NN\\w?>)+.*<NN\\w?>}                #To extract Noun Phrases  (Any type of Adjectives OR Any type Verbs OR Any type Nouns/Regular Noun WITH at Least One  Any type Nouns/Regular Noun)\n",
    "                       VERBS: {<V.*>}                                                   #To extract Verbs (Any Verb)\n",
    "                       \"\"\")\n",
    "chunky = chunker.parse(tagged)"
   ]
  },
  {
   "cell_type": "code",
   "execution_count": 10,
   "metadata": {},
   "outputs": [
    {
     "output_type": "stream",
     "name": "stdout",
     "text": [
      "(NOUN PHRASES George/NNP Walker/NNP Bush/NNP)\n('(', '(')\n(NOUN PHRASES born/VBN July/NNP)\n('6', 'CD')\n(',', ',')\n('1946', 'CD')\n(')', ')')\n(NOUN PHRASES American/JJ politician/NN businessman/NN)\n(VERBS served/VBD)\n('43rd', 'CD')\n(NOUN PHRASES president/NN United/NNP)\n('States', 'NNPS')\n('2001', 'CD')\n('2009', 'CD')\n('.', '.')\n('A', 'DT')\n(NOUN PHRASES member/NN Republican/NNP Party/NNP)\n(',', ',')\n('previously', 'RB')\n(VERBS served/VBD)\n('46th', 'CD')\n(NOUN PHRASES governor/NN Texas/NNP)\n('1995', 'CD')\n('2000', 'CD')\n('.', '.')\n(NOUN PHRASES Born/NNP Bush/NNP family/NN)\n(',', ',')\n('father', 'RB')\n(',', ',')\n(NOUN PHRASES George/NNP H./NNP W./NNP Bush/NNP)\n(',', ',')\n(VERBS served/VBD)\n('41st', 'CD')\n(NOUN PHRASES president/NN United/NNP)\n('States', 'NNPS')\n('1989', 'CD')\n('1993', 'CD')\n('.', '.')\n(NOUN PHRASES\n  Bush/NNP\n  eldest/JJS\n  son/NN\n  Barbara/NNP\n  George/NNP\n  H./NNP\n  W./NNP\n  Bush/NNP)\n('.', '.')\n('As', 'IN')\n(NOUN PHRASES second/JJ son/NN former/JJ United/NNP)\n('States', 'NNPS')\n(NOUN PHRASES president/NN become/VBN American/NNP president/NN)\n(',', ',')\n(NOUN PHRASES first/JJ John/NNP Quincy/NNP Adams/NNP)\n(',', ',')\n(NOUN PHRASES son/NN John/NNP Adams/NNP)\n('.', '.')\n('He', 'PRP')\n(NOUN PHRASES\n  flew/VBD\n  warplanes/NNS\n  Texas/NNP\n  Alabama/NNP\n  Air/NNP\n  National/NNP\n  Guard/NNP)\n('.', '.')\n('After', 'IN')\n(NOUN PHRASES graduating/VBG Yale/NNP College/NNP)\n('1968', 'CD')\n(NOUN PHRASES Harvard/NNP Business/NNP School/NNP)\n('1975', 'CD')\n(',', ',')\n(NOUN PHRASES worked/VBD oil/NN industry/NN)\n('.', '.')\n(NOUN PHRASES Bush/NNP married/VBD Laura/NNP Welch/NNP)\n('1977', 'CD')\n('unsuccessfully', 'RB')\n(NOUN PHRASES ran/VBD U.S./NNP House/NNP)\n(VERBS Representatives/VBZ)\n('shortly', 'RB')\n('thereafter', 'RB')\n('.', '.')\n('He', 'PRP')\n('later', 'RB')\n(NOUN PHRASES co-owned/VBD Texas/NNP)\n('Rangers', 'NNPS')\n(NOUN PHRASES\n  baseball/NN\n  team/NN\n  defeating/VBG\n  incumbent/JJ\n  Ann/NNP\n  Richards/NNP)\n('1994', 'CD')\n(NOUN PHRASES Texas/NNP gubernatorial/JJ election/NN)\n('.', '.')\n('As', 'IN')\n('governor', 'NN')\n(',', ',')\n('Bush', 'NNP')\n('successfully', 'RB')\n(NOUN PHRASES sponsored/VBD legislation/NN tort/NN reform/NN)\n(',', ',')\n(NOUN PHRASES increased/VBN education/NN funding/NN)\n(',', ',')\n(NOUN PHRASES set/VB higher/JJR standards/NNS schools/NNS)\n(',', ',')\n(NOUN PHRASES reformed/VBD criminal/JJ justice/NN system/NN)\n('.', '.')\n('Bush', 'NNP')\n('also', 'RB')\n(NOUN PHRASES\n  helped/VBD\n  make/VB\n  Texas/NNP\n  leading/VBG\n  producer/NN\n  wind/NN\n  powered/JJ\n  electricity/NN\n  U.S./NNP\n  Bush/NNP\n  elected/VBN\n  president/NN)\n('2000', 'CD')\n(NOUN PHRASES\n  defeated/VBD\n  Democratic/JJ\n  incumbent/JJ\n  Vice/NNP\n  President/NNP\n  Al/NNP\n  Gore/NNP\n  narrow/JJ\n  contested/VBD\n  win/NNS\n  involved/VBN\n  Supreme/NNP\n  Court/NNP\n  decision/NN\n  stop/NN\n  recount/NN\n  Florida/NNP)\n('.', '.')\n('He', 'PRP')\n(NOUN PHRASES\n  became/VBD\n  fourth/JJ\n  person/NN\n  elected/VBD\n  president/NN)\n('without', 'IN')\n(NOUN PHRASES popular/JJ vote/NN victory/NN)\n('.', '.')\n"
     ]
    }
   ],
   "source": [
    "# Printing out the chunked combinations for 100 words\n",
    "for i in range(0,100,1):\n",
    "    print(chunky[i])"
   ]
  },
  {
   "source": [
    "Sixth apply a chunking parameter we will have seperated into our desired Phrases."
   ],
   "cell_type": "markdown",
   "metadata": {}
  },
  {
   "cell_type": "code",
   "execution_count": 11,
   "metadata": {},
   "outputs": [
    {
     "output_type": "stream",
     "name": "stdout",
     "text": [
      "Number of Noun Phrases Parsed  1617\n"
     ]
    }
   ],
   "source": [
    "# Filtering out Noun Phrases out of the chunked data\n",
    "nounPhrases = []\n",
    "for i in chunky.subtrees(filter=lambda t: t.label() == 'NOUN PHRASES'):\n",
    "    nounPhrases.append(i)\n",
    "\n",
    "# Number of Noun Phrases our chunking parameters have produced.\n",
    "print (\"Number of Noun Phrases Parsed \",len(nounPhrases))"
   ]
  },
  {
   "cell_type": "code",
   "execution_count": 12,
   "metadata": {},
   "outputs": [
    {
     "output_type": "stream",
     "name": "stdout",
     "text": [
      "(NOUN PHRASES George/NNP Walker/NNP Bush/NNP)\n(NOUN PHRASES born/VBN July/NNP)\n(NOUN PHRASES American/JJ politician/NN businessman/NN)\n(NOUN PHRASES president/NN United/NNP)\n(NOUN PHRASES member/NN Republican/NNP Party/NNP)\n(NOUN PHRASES governor/NN Texas/NNP)\n(NOUN PHRASES Born/NNP Bush/NNP family/NN)\n(NOUN PHRASES George/NNP H./NNP W./NNP Bush/NNP)\n(NOUN PHRASES president/NN United/NNP)\n(NOUN PHRASES\n  Bush/NNP\n  eldest/JJS\n  son/NN\n  Barbara/NNP\n  George/NNP\n  H./NNP\n  W./NNP\n  Bush/NNP)\n(NOUN PHRASES second/JJ son/NN former/JJ United/NNP)\n(NOUN PHRASES president/NN become/VBN American/NNP president/NN)\n(NOUN PHRASES first/JJ John/NNP Quincy/NNP Adams/NNP)\n(NOUN PHRASES son/NN John/NNP Adams/NNP)\n(NOUN PHRASES\n  flew/VBD\n  warplanes/NNS\n  Texas/NNP\n  Alabama/NNP\n  Air/NNP\n  National/NNP\n  Guard/NNP)\n(NOUN PHRASES graduating/VBG Yale/NNP College/NNP)\n(NOUN PHRASES Harvard/NNP Business/NNP School/NNP)\n(NOUN PHRASES worked/VBD oil/NN industry/NN)\n(NOUN PHRASES Bush/NNP married/VBD Laura/NNP Welch/NNP)\n(NOUN PHRASES ran/VBD U.S./NNP House/NNP)\n(NOUN PHRASES co-owned/VBD Texas/NNP)\n(NOUN PHRASES\n  baseball/NN\n  team/NN\n  defeating/VBG\n  incumbent/JJ\n  Ann/NNP\n  Richards/NNP)\n(NOUN PHRASES Texas/NNP gubernatorial/JJ election/NN)\n(NOUN PHRASES sponsored/VBD legislation/NN tort/NN reform/NN)\n(NOUN PHRASES increased/VBN education/NN funding/NN)\n(NOUN PHRASES set/VB higher/JJR standards/NNS schools/NNS)\n(NOUN PHRASES reformed/VBD criminal/JJ justice/NN system/NN)\n(NOUN PHRASES\n  helped/VBD\n  make/VB\n  Texas/NNP\n  leading/VBG\n  producer/NN\n  wind/NN\n  powered/JJ\n  electricity/NN\n  U.S./NNP\n  Bush/NNP\n  elected/VBN\n  president/NN)\n(NOUN PHRASES\n  defeated/VBD\n  Democratic/JJ\n  incumbent/JJ\n  Vice/NNP\n  President/NNP\n  Al/NNP\n  Gore/NNP\n  narrow/JJ\n  contested/VBD\n  win/NNS\n  involved/VBN\n  Supreme/NNP\n  Court/NNP\n  decision/NN\n  stop/NN\n  recount/NN\n  Florida/NNP)\n(NOUN PHRASES\n  became/VBD\n  fourth/JJ\n  person/NN\n  elected/VBD\n  president/NN)\n(NOUN PHRASES popular/JJ vote/NN victory/NN)\n(NOUN PHRASES taking/VBG office/NN)\n(NOUN PHRASES\n  tax/NN\n  cut/NN\n  program/NN\n  No/NNP\n  Child/NNP\n  Left/NNP\n  Behind/NNP\n  Act/NNP)\n(NOUN PHRASES major/JJ education/NN reform/NN bill/NN)\n(NOUN PHRASES conservative/JJ efforts/NNS)\n(NOUN PHRASES\n  Partial-Birth/JJ\n  Abortion/NNP\n  Ban/NNP\n  Act/NNP\n  faith-based/JJ\n  welfare/NN\n  initiatives/NNS)\n(NOUN PHRASES response/NN September/NNP)\n(NOUN PHRASES terrorist/NN attacks/NNS)\n(NOUN PHRASES\n  Bush/NNP\n  created/VBD\n  Department/NNP\n  Homeland/NNP\n  Security/NNP)\n(NOUN PHRASES War/NNP Terror/NNP)\n(NOUN PHRASES began/VBD war/NN Afghanistan/NNP)\n(NOUN PHRASES\n  signed/VBD\n  law/NN\n  controversial/JJ\n  Patriot/NNP\n  Act/NNP\n  order/NN\n  authorize/NN\n  surveillance/NN\n  suspected/VBD\n  terrorists/NNS)\n(NOUN PHRASES Bush/NNP ordered/VBD invasion/NN Iraq/NNP)\n(NOUN PHRASES beginning/VBG Iraq/NNP War/NNP)\n(NOUN PHRASES\n  administration/NN\n  arguing/VBG\n  Saddam/NNP\n  Hussein/NNP\n  regime/NN\n  possessed/VBD\n  active/JJ\n  weapons/NNS\n  mass/NN\n  destruction/NN)\n(NOUN PHRASES Iraqi/NNP government/NN posed/VBD threat/NN U.S/NNP)\n(NOUN PHRASES administration/NN officials/NNS)\n(NOUN PHRASES\n  claimed/VBD\n  Hussein/NNP\n  operational/JJ\n  relationship/NN\n  Al-Qaeda/NNP)\n(NOUN PHRASES stockpiles/NNS WMDs/NNP active/JJ WMD/NNP program/NN)\n(NOUN PHRASES found/VBD Iraq/NNP)\n(NOUN PHRASES\n  signed/VBD\n  law/NN\n  Medicare/NNP\n  Modernization/NNP\n  Act/NNP)\n(NOUN PHRASES created/VBN Medicare/NNP Part/NNP D/NNP)\n(NOUN PHRASES\n  funding/VBG\n  AIDS/NNP\n  relief/NN\n  program/NN\n  known/VBN\n  PEPFAR/NNP)\n(NOUN PHRASES Bush/NNP re-elected/JJ second/JJ term/NN)\n(NOUN PHRASES presidential/JJ election/NN)\n(NOUN PHRASES\n  defeating/VBG\n  Democratic/JJ\n  Senator/NNP\n  John/NNP\n  Kerry/NNP)\n(NOUN PHRASES second/JJ term/NN)\n(NOUN PHRASES\n  Bush/NNP\n  reached/VBD\n  multiple/JJ\n  free/JJ\n  trade/NN\n  agreements/NNS)\n(NOUN PHRASES\n  nominated/VBN\n  John/NNP\n  Roberts/NNP\n  Samuel/NNP\n  Alito/NNP\n  Supreme/NNP\n  Court/NNP)\n(NOUN PHRASES\n  sought/VBD\n  major/JJ\n  changes/NNS\n  Social/NNP\n  Security/NNP\n  immigration/NN\n  laws/NNS)\n(NOUN PHRASES wars/NNS Afghanistan/NNP Iraq/NNP)\n(NOUN PHRASES launched/VBD surge/NN troops/NNS Iraq/NNP)\n(NOUN PHRASES Bush/NNP received/VBD criticism/NN)\n(NOUN PHRASES\n  political/JJ\n  spectrum/NN\n  handling/VBG\n  Hurricane/NNP\n  Katrina/NNP)\n(NOUN PHRASES midterm/JJ dismissal/JJ U.S./NNP attorneys/NNS)\n(NOUN PHRASES Amid/NNP criticism/NN)\n(NOUN PHRASES\n  Democratic/NNP\n  Party/NNP\n  regained/VBD\n  control/NN\n  Congress/NNP)\n(NOUN PHRASES U.S./NNP entered/VBD Great/NNP Recession/NNP)\n(NOUN PHRASES\n  prompting/VBG\n  Bush/NNP\n  administration/NN\n  obtain/VB\n  congressional/JJ\n  approval/NN\n  multiple/JJ\n  economic/JJ\n  programs/NNS\n  intended/VBD\n  preserve/VBP\n  country/NN)\n(NOUN PHRASES financial/JJ system/NN)\n(NOUN PHRASES\n  including/VBG\n  Troubled/JJ\n  Asset/NNP\n  Relief/NNP\n  Program/NNP)\n(NOUN PHRASES\n  buy/VBP\n  toxic/JJ\n  assets/NNS\n  financial/JJ\n  institutions/NNS)\n(NOUN PHRASES U.S./NNP presidents/VBZ history/NN)\n(NOUN PHRASES\n  received/VBN\n  highest/JJS\n  recorded/VBN\n  approval/NN\n  ratings/NNS)\n(NOUN PHRASES lowest/JJS ratings/NNS)\n(NOUN PHRASES financial/JJ crisis/NN)\n(NOUN PHRASES Bush/NNP finished/VBD second/JJ term/NN office/NN)\n(NOUN PHRASES returned/VBD Texas/NNP)\n(NOUN PHRASES published/VBN memoir/NN)\n(NOUN PHRASES Decision/NNP Points/NNP)\n(NOUN PHRASES presidential/JJ library/NN)\n(NOUN PHRASES\n  presidency/NN\n  rated/VBD\n  below-average/JJ\n  historical/JJ\n  rankings/NNS\n  U.S./NNP\n  presidents/NNS)\n(NOUN PHRASES public/JJ favorability/NN ratings/NNS)\n(NOUN PHRASES leaving/VBG office/NN)\n(NOUN PHRASES\n  Early/JJ\n  life/NN\n  career/NN\n  George/NNP\n  Walker/NNP\n  Bush/NNP\n  born/VBN\n  July/NNP)\n(NOUN PHRASES Grace-New/NNP Haven/NNP Hospital/NNP)\n(NOUN PHRASES Yale/NNP New/NNP Haven/NNP Hospital/NNP)\n(NOUN PHRASES New/NNP Haven/NNP)\n(NOUN PHRASES student/NN Yale/NNP)\n(NOUN PHRASES\n  child/VB\n  George/NNP\n  Herbert/NNP\n  Walker/NNP\n  Bush/NNP\n  Barbara/NNP\n  Pierce/NNP)\n(NOUN PHRASES raised/VBD Midland/NNP Houston/NNP)\n(NOUN PHRASES Marvin/NNP Dorothy/NNP)\n(NOUN PHRASES younger/JJR sister/NN)\n(NOUN PHRASES died/VBD leukemia/JJ age/NN)\n(NOUN PHRASES paternal/JJ grandfather/NN)\n(NOUN PHRASES Prescott/NNP Bush/NNP)\n(NOUN PHRASES Senator/NNP Connecticut/NNP)\n(NOUN PHRASES father/NN Ronald/NNP Reagan/NNP)\n(NOUN PHRASES vice/NN president/NN)\n(NOUN PHRASES 41st/JJ U.S./NNP president/NN)\n"
     ]
    }
   ],
   "source": [
    "# Printing the first 100 of the Noun Phrases discovered\n",
    "for i in range(0,100,1):\n",
    "    print(nounPhrases[i])"
   ]
  },
  {
   "cell_type": "code",
   "execution_count": null,
   "metadata": {},
   "outputs": [],
   "source": []
  }
 ],
 "metadata": {
  "kernelspec": {
   "display_name": "Python 3",
   "language": "python",
   "name": "python3"
  },
  "language_info": {
   "codemirror_mode": {
    "name": "ipython",
    "version": 3
   },
   "file_extension": ".py",
   "mimetype": "text/x-python",
   "name": "python",
   "nbconvert_exporter": "python",
   "pygments_lexer": "ipython3",
   "version": "3.6.8-final"
  }
 },
 "nbformat": 4,
 "nbformat_minor": 2
}