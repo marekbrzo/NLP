{
 "nbformat": 4,
 "nbformat_minor": 2,
 "metadata": {
  "language_info": {
   "name": "python",
   "codemirror_mode": {
    "name": "ipython",
    "version": 3
   },
   "version": "3.6.8-final"
  },
  "orig_nbformat": 2,
  "file_extension": ".py",
  "mimetype": "text/x-python",
  "name": "python",
  "npconvert_exporter": "python",
  "pygments_lexer": "ipython3",
  "version": 3,
  "kernelspec": {
   "name": "python36864bitbasecondab7b0b3c2e5114e4588b3c6978978b1d3",
   "display_name": "Python 3.6.8 64-bit ('base': conda)",
   "language": "python"
  }
 },
 "cells": [
  {
   "cell_type": "markdown",
   "metadata": {},
   "source": [
    "# Text Mining - Naive Bayes \n",
    "\n",
    "## BRZOZOWSKI MAREK\n",
    "\n",
    "## An NLTK library of movie_reviews will be used to explore:\n",
    "\n",
    "## Analysing the tone of a movie review. Applying Naive Bayes classifier to out print 10 most informative words.\n",
    "\n",
    "\n",
    "Text mining is the process of examining large collections of documents to help discovery new meaningful information. SImple classification method based on Bayes rule is the Naive Bayes classification.\n",
    "Naive Bayes classifer is based on probability of events. Very common to text classification, performs well.\n",
    "Relies on a very simple representaion of documents. This method is less CPU and Memory intensive, which means less training time and less data is needed."
   ]
  },
  {
   "cell_type": "code",
   "execution_count": 1,
   "metadata": {},
   "outputs": [],
   "source": [
    "# Loading packages\n",
    "import numpy as np \n",
    "import pandas as pd \n",
    "import nltk\n",
    "import nltk.classify.util\n",
    "\n",
    "from nltk.classify import NaiveBayesClassifier\n",
    "from nltk.corpus import movie_reviews"
   ]
  },
  {
   "cell_type": "code",
   "execution_count": 2,
   "metadata": {},
   "outputs": [],
   "source": [
    "# Loading Data Movie Reviews found nltk library\n",
    "# nltk.download('movie_reviews')"
   ]
  },
  {
   "cell_type": "code",
   "execution_count": 3,
   "metadata": {},
   "outputs": [],
   "source": [
    "# Function that creates a dictonary determining filtering words\n",
    "def extract_features(word_list):\n",
    "    return dict([(word, True) for word in word_list])"
   ]
  },
  {
   "cell_type": "code",
   "execution_count": 4,
   "metadata": {},
   "outputs": [
    {
     "output_type": "execute_result",
     "data": {
      "text/plain": [
       "['neg/cv000_29416.txt',\n",
       " 'neg/cv001_19502.txt',\n",
       " 'neg/cv002_17424.txt',\n",
       " 'neg/cv003_12683.txt',\n",
       " 'neg/cv004_12641.txt',\n",
       " 'neg/cv005_29357.txt',\n",
       " 'neg/cv006_17022.txt',\n",
       " 'neg/cv007_4992.txt',\n",
       " 'neg/cv008_29326.txt',\n",
       " 'neg/cv009_29417.txt']"
      ]
     },
     "metadata": {},
     "execution_count": 4
    }
   ],
   "source": [
    "# Collect and review the Files located in the Movie_reviews dataset\n",
    "# Notice how the files have a 'pos' or 'neg' in the file name, indicating the tone of the review.\n",
    "movie_ids=movie_reviews.fileids()\n",
    "movie_ids[:10]"
   ]
  },
  {
   "cell_type": "code",
   "execution_count": 5,
   "metadata": {},
   "outputs": [],
   "source": [
    "# Create lists with all the files in the negative and positive reviews.\n",
    "positive_movies = movie_reviews.fileids('pos')\n",
    "negative_movies = movie_reviews.fileids('neg')"
   ]
  },
  {
   "cell_type": "code",
   "execution_count": 6,
   "metadata": {},
   "outputs": [],
   "source": [
    "# Generate postive and negatitve list for words in the reviews\n",
    "features_positive = [(extract_features(movie_reviews.words(fileids=[f])), 'Positive') for f in positive_movies]\n",
    "features_negative = [(extract_features(movie_reviews.words(fileids=[f])), 'Negative') for f in negative_movies]"
   ]
  },
  {
   "cell_type": "code",
   "execution_count": 7,
   "metadata": {},
   "outputs": [],
   "source": [
    "# Generate train and test list number\n",
    "# Value of the train test threshold\n",
    "threshold_factor = 0.8\n",
    "threshold_positive = int(threshold_factor * len(features_positive))\n",
    "threshold_negative = int(threshold_factor * len(features_negative))"
   ]
  },
  {
   "cell_type": "code",
   "execution_count": 8,
   "metadata": {},
   "outputs": [],
   "source": [
    "# We MANUALLY separately split positive and negative isntances to keep a balanced uniform class disribution in both train and test sets\n",
    "features_train = features_positive[:threshold_positive] + features_negative[:threshold_negative]\n",
    "features_test = features_positive[threshold_positive:] + features_negative[threshold_negative:]  "
   ]
  },
  {
   "cell_type": "code",
   "execution_count": 9,
   "metadata": {},
   "outputs": [],
   "source": [
    "# Train a Naive Bayes classifier\n",
    "classifier=nltk.NaiveBayesClassifier.train(features_train)"
   ]
  },
  {
   "cell_type": "code",
   "execution_count": 10,
   "metadata": {},
   "outputs": [
    {
     "output_type": "stream",
     "name": "stdout",
     "text": [
      "\n",
      "Top 10 most informative words:\n",
      "\n",
      "Most Informative Features\n",
      "             outstanding = True           Positi : Negati =     13.9 : 1.0\n",
      "               insulting = True           Negati : Positi =     13.7 : 1.0\n",
      "              vulnerable = True           Positi : Negati =     13.0 : 1.0\n",
      "               ludicrous = True           Negati : Positi =     12.6 : 1.0\n",
      "             uninvolving = True           Negati : Positi =     12.3 : 1.0\n",
      "              astounding = True           Positi : Negati =     11.7 : 1.0\n",
      "                  avoids = True           Positi : Negati =     11.7 : 1.0\n",
      "             fascination = True           Positi : Negati =     11.0 : 1.0\n",
      "               animators = True           Positi : Negati =     10.3 : 1.0\n",
      "                  symbol = True           Positi : Negati =     10.3 : 1.0\n",
      "\n",
      "Naive bayes algorithm accuracy percent: 73.5\n"
     ]
    }
   ],
   "source": [
    "# Print the 10 most informative words.\n",
    "# We use our tests set to find the accuracy\n",
    "print(\"\\nTop 10 most informative words:\\n\")\n",
    "classifier.show_most_informative_features(10)\n",
    "print(\"\\nNaive bayes algorithm accuracy percent:\",(nltk.classify.accuracy(classifier,features_test))*100)"
   ]
  },
  {
   "cell_type": "code",
   "execution_count": null,
   "metadata": {},
   "outputs": [],
   "source": []
  }
 ]
}